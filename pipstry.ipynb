{
 "cells": [
  {
   "cell_type": "markdown",
   "metadata": {},
   "source": [
    "# Pipstry - a little helping tool for non-developers to solve the pip mistry\n",
    "\n",
    "If you are not a developers (e.g. Data Scientist/ Analyst) who never use virtual enviroments and one day you want to know which packages you have actively install, which ones are dependencies that was automatically installed. Good luck! Here is a simple jupyter notebook to help you solve this pip mistry. And please, start to use virtual enviroments tools such as:\n",
    "\n",
    "* [pipenv](https://github.com/pypa/pipenv)\n",
    "* [venv](https://docs.python.org/3/library/venv.html)\n",
    "* [virtualenv](https://virtualenv.pypa.io/en/stable/)\n",
    "* [conda](https://docs.conda.io/projects/conda/en/latest/user-guide/tasks/manage-environments.html)\n",
    "\n",
    "*Thanks to my friend [Alexander Hendorf](https://github.com/alanderex) for the inspiration*"
   ]
  },
  {
   "cell_type": "markdown",
   "metadata": {},
   "source": [
    "You know that you can check which packages you have installed using `pip list`"
   ]
  },
  {
   "cell_type": "code",
   "execution_count": 1,
   "metadata": {},
   "outputs": [
    {
     "name": "stdout",
     "output_type": "stream",
     "text": [
      "Package            Version\r\n",
      "------------------ -------\r\n",
      "appnope            0.1.0  \r\n",
      "attrs              19.1.0 \r\n",
      "backcall           0.1.0  \r\n",
      "bleach             3.1.0  \r\n",
      "decorator          4.4.0  \r\n",
      "defusedxml         0.6.0  \r\n",
      "entrypoints        0.3    \r\n",
      "ipykernel          5.1.1  \r\n",
      "ipython            7.6.1  \r\n",
      "ipython-genutils   0.2.0  \r\n",
      "ipywidgets         7.5.0  \r\n",
      "jedi               0.14.1 \r\n",
      "Jinja2             2.10.1 \r\n",
      "jsonschema         3.0.1  \r\n",
      "jupyter            1.0.0  \r\n",
      "jupyter-client     5.3.1  \r\n",
      "jupyter-console    6.0.0  \r\n",
      "jupyter-core       4.5.0  \r\n",
      "MarkupSafe         1.1.1  \r\n",
      "mistune            0.8.4  \r\n",
      "nbconvert          5.5.0  \r\n",
      "nbformat           4.4.0  \r\n",
      "notebook           5.7.8  \r\n",
      "pandocfilters      1.4.2  \r\n",
      "parso              0.5.1  \r\n",
      "pexpect            4.7.0  \r\n",
      "pickleshare        0.7.5  \r\n",
      "pip                19.1.1 \r\n",
      "prometheus-client  0.7.1  \r\n",
      "prompt-toolkit     2.0.9  \r\n",
      "ptyprocess         0.6.0  \r\n",
      "Pygments           2.4.2  \r\n",
      "pyrsistent         0.15.3 \r\n",
      "python-dateutil    2.8.0  \r\n",
      "pyzmq              18.0.2 \r\n",
      "qtconsole          4.5.1  \r\n",
      "Send2Trash         1.5.0  \r\n",
      "setuptools         40.8.0 \r\n",
      "six                1.12.0 \r\n",
      "terminado          0.8.2  \r\n",
      "testpath           0.4.2  \r\n",
      "tornado            6.0.3  \r\n",
      "traitlets          4.3.2  \r\n",
      "wcwidth            0.1.7  \r\n",
      "webencodings       0.5.1  \r\n",
      "widgetsnbextension 3.5.0  \r\n"
     ]
    }
   ],
   "source": [
    "!pip list"
   ]
  },
  {
   "cell_type": "markdown",
   "metadata": {},
   "source": [
    "Let's use this to capture all packages that you have installed"
   ]
  },
  {
   "cell_type": "code",
   "execution_count": 2,
   "metadata": {},
   "outputs": [],
   "source": [
    "import subprocess"
   ]
  },
  {
   "cell_type": "code",
   "execution_count": 3,
   "metadata": {},
   "outputs": [],
   "source": [
    "all_packages = subprocess.check_output([\"pip\", \"list\"]).decode().splitlines()[2:]\n",
    "all_packages = list(map(lambda x: x.split()[0], all_packages))"
   ]
  },
  {
   "cell_type": "code",
   "execution_count": 4,
   "metadata": {},
   "outputs": [
    {
     "data": {
      "text/plain": [
       "['appnope',\n",
       " 'attrs',\n",
       " 'backcall',\n",
       " 'bleach',\n",
       " 'decorator',\n",
       " 'defusedxml',\n",
       " 'entrypoints',\n",
       " 'ipykernel',\n",
       " 'ipython',\n",
       " 'ipython-genutils',\n",
       " 'ipywidgets',\n",
       " 'jedi',\n",
       " 'Jinja2',\n",
       " 'jsonschema',\n",
       " 'jupyter',\n",
       " 'jupyter-client',\n",
       " 'jupyter-console',\n",
       " 'jupyter-core',\n",
       " 'MarkupSafe',\n",
       " 'mistune',\n",
       " 'nbconvert',\n",
       " 'nbformat',\n",
       " 'notebook',\n",
       " 'pandocfilters',\n",
       " 'parso',\n",
       " 'pexpect',\n",
       " 'pickleshare',\n",
       " 'pip',\n",
       " 'prometheus-client',\n",
       " 'prompt-toolkit',\n",
       " 'ptyprocess',\n",
       " 'Pygments',\n",
       " 'pyrsistent',\n",
       " 'python-dateutil',\n",
       " 'pyzmq',\n",
       " 'qtconsole',\n",
       " 'Send2Trash',\n",
       " 'setuptools',\n",
       " 'six',\n",
       " 'terminado',\n",
       " 'testpath',\n",
       " 'tornado',\n",
       " 'traitlets',\n",
       " 'wcwidth',\n",
       " 'webencodings',\n",
       " 'widgetsnbextension']"
      ]
     },
     "execution_count": 4,
     "metadata": {},
     "output_type": "execute_result"
    }
   ],
   "source": [
    "all_packages"
   ]
  },
  {
   "cell_type": "markdown",
   "metadata": {},
   "source": [
    "Also, you can use `pip show <package-name>` to check what the package requires and required by (last 2 lines)"
   ]
  },
  {
   "cell_type": "code",
   "execution_count": 5,
   "metadata": {},
   "outputs": [
    {
     "name": "stdout",
     "output_type": "stream",
     "text": [
      "Name: six\r\n",
      "Version: 1.12.0\r\n",
      "Summary: Python 2 and 3 compatibility utilities\r\n",
      "Home-page: https://github.com/benjaminp/six\r\n",
      "Author: Benjamin Peterson\r\n",
      "Author-email: benjamin@python.org\r\n",
      "License: MIT\r\n",
      "Location: /Users/rentaluser1/.pyenv/versions/3.7.3/envs/pydataldn/lib/python3.7/site-packages\r\n",
      "Requires: \r\n",
      "Required-by: traitlets, python-dateutil, pyrsistent, prompt-toolkit, jsonschema, bleach\r\n"
     ]
    }
   ],
   "source": [
    "!pip show six"
   ]
  },
  {
   "cell_type": "markdown",
   "metadata": {},
   "source": [
    "Let's save them all (it takes a while... or a long time if you have many packages)"
   ]
  },
  {
   "cell_type": "code",
   "execution_count": 6,
   "metadata": {},
   "outputs": [],
   "source": [
    "packages_cache = {}\n",
    "for package in all_packages:\n",
    "    packages_cache[package] = subprocess.check_output([\"pip\", \"show\", package]).decode()"
   ]
  },
  {
   "cell_type": "markdown",
   "metadata": {},
   "source": [
    "Find all packages that is not required by any thing else"
   ]
  },
  {
   "cell_type": "code",
   "execution_count": 7,
   "metadata": {},
   "outputs": [],
   "source": [
    "top_packages = []\n",
    "for package in all_packages:\n",
    "    if len(packages_cache[package].splitlines()[-1].split()) == 1:\n",
    "        top_packages.append(package)"
   ]
  },
  {
   "cell_type": "code",
   "execution_count": 8,
   "metadata": {},
   "outputs": [
    {
     "data": {
      "text/plain": [
       "['Jinja2', 'jupyter', 'pip', 'Pygments']"
      ]
     },
     "execution_count": 8,
     "metadata": {},
     "output_type": "execute_result"
    }
   ],
   "source": [
    "top_packages"
   ]
  },
  {
   "cell_type": "markdown",
   "metadata": {},
   "source": [
    "Oppos, seems there is a problem as `notebook` requires `jinja2`, but is not shown in `Required-by` at `jinja2` "
   ]
  },
  {
   "cell_type": "code",
   "execution_count": 9,
   "metadata": {},
   "outputs": [
    {
     "name": "stdout",
     "output_type": "stream",
     "text": [
      "Name: Jinja2\r\n",
      "Version: 2.10.1\r\n",
      "Summary: A small but fast and easy to use stand-alone template engine written in pure python.\r\n",
      "Home-page: http://jinja.pocoo.org/\r\n",
      "Author: Armin Ronacher\r\n",
      "Author-email: armin.ronacher@active-4.com\r\n",
      "License: BSD\r\n",
      "Location: /Users/rentaluser1/.pyenv/versions/3.7.3/envs/pydataldn/lib/python3.7/site-packages\r\n",
      "Requires: MarkupSafe\r\n",
      "Required-by: \r\n"
     ]
    }
   ],
   "source": [
    "!pip show Jinja2"
   ]
  },
  {
   "cell_type": "code",
   "execution_count": 10,
   "metadata": {},
   "outputs": [
    {
     "name": "stdout",
     "output_type": "stream",
     "text": [
      "Name: notebook\r\n",
      "Version: 5.7.8\r\n",
      "Summary: A web-based notebook environment for interactive computing\r\n",
      "Home-page: http://jupyter.org\r\n",
      "Author: Jupyter Development Team\r\n",
      "Author-email: jupyter@googlegroups.com\r\n",
      "License: BSD\r\n",
      "Location: /Users/rentaluser1/.pyenv/versions/3.7.3/envs/pydataldn/lib/python3.7/site-packages\r\n",
      "Requires: terminado, pyzmq, traitlets, jupyter-core, ipykernel, ipython-genutils, jinja2, Send2Trash, tornado, nbconvert, jupyter-client, nbformat, prometheus-client\r\n",
      "Required-by: widgetsnbextension, jupyter\r\n"
     ]
    }
   ],
   "source": [
    "!pip show notebook"
   ]
  },
  {
   "cell_type": "markdown",
   "metadata": {},
   "source": [
    "For each of the `top_packages` that we found before, double check that it is not require by others by checking `all_packages`"
   ]
  },
  {
   "cell_type": "code",
   "execution_count": 11,
   "metadata": {},
   "outputs": [],
   "source": [
    "real_top_packages = list(top_packages)\n",
    "for the_package in top_packages:\n",
    "    for package in all_packages:\n",
    "        all_dependencies = packages_cache[package].splitlines()[-2].lower().replace(',',' ').split()[1:]\n",
    "        if (the_package.lower() in all_dependencies) and (the_package in real_top_packages):\n",
    "            real_top_packages.remove(the_package)   "
   ]
  },
  {
   "cell_type": "code",
   "execution_count": 12,
   "metadata": {},
   "outputs": [
    {
     "data": {
      "text/plain": [
       "['jupyter', 'pip']"
      ]
     },
     "execution_count": 12,
     "metadata": {},
     "output_type": "execute_result"
    }
   ],
   "source": [
    "real_top_packages"
   ]
  },
  {
   "cell_type": "markdown",
   "metadata": {},
   "source": [
    "After all these hard work, we know which ones are the one that we only need to install to recreate the enviroment."
   ]
  }
 ],
 "metadata": {
  "kernelspec": {
   "display_name": "Python 3",
   "language": "python",
   "name": "python3"
  },
  "language_info": {
   "codemirror_mode": {
    "name": "ipython",
    "version": 3
   },
   "file_extension": ".py",
   "mimetype": "text/x-python",
   "name": "python",
   "nbconvert_exporter": "python",
   "pygments_lexer": "ipython3",
   "version": "3.7.3"
  }
 },
 "nbformat": 4,
 "nbformat_minor": 2
}
